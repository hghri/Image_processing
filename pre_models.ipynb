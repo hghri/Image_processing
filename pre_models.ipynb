{
  "nbformat": 4,
  "nbformat_minor": 0,
  "metadata": {
    "colab": {
      "provenance": [],
      "authorship_tag": "ABX9TyP2OK4tIzo9KRjF1XnMP/zL",
      "include_colab_link": true
    },
    "kernelspec": {
      "name": "python3",
      "display_name": "Python 3"
    },
    "language_info": {
      "name": "python"
    }
  },
  "cells": [
    {
      "cell_type": "markdown",
      "metadata": {
        "id": "view-in-github",
        "colab_type": "text"
      },
      "source": [
        "<a href=\"https://colab.research.google.com/github/hghri/Image_processing/blob/main/pre_models.ipynb\" target=\"_parent\"><img src=\"https://colab.research.google.com/assets/colab-badge.svg\" alt=\"Open In Colab\"/></a>"
      ]
    },
    {
      "cell_type": "code",
      "execution_count": null,
      "metadata": {
        "id": "ZyoEMzLAcUrc"
      },
      "outputs": [],
      "source": [
        "import os\n",
        "os.path.expanduser('~/.keras/models')\n",
        "from tensorflow.keras.applications.resnet import ResNet152\n",
        "from tensorflow.keras.applications.resnet import preprocess_input,decode_predictions\n",
        "from tensorflow.keras.preprocessing import image\n",
        "import numpy as np\n",
        "import cv2"
      ]
    },
    {
      "cell_type": "code",
      "source": [
        "model=ResNet152(weights='imagenet')"
      ],
      "metadata": {
        "id": "sJhgqe5XF5hu"
      },
      "execution_count": null,
      "outputs": []
    },
    {
      "cell_type": "code",
      "source": [
        "model.summary()"
      ],
      "metadata": {
        "id": "oGCUq80WF9cm"
      },
      "execution_count": null,
      "outputs": []
    },
    {
      "cell_type": "code",
      "source": [
        "img = image.load_img('/content/dog-personality-1240x640.jpg',target_size=(224,224))"
      ],
      "metadata": {
        "colab": {
          "base_uri": "https://localhost:8080/",
          "height": 280
        },
        "id": "mg_tvS_fGN5j",
        "outputId": "c168bc61-b296-4102-d4ff-c2fcac40c930"
      },
      "execution_count": null,
      "outputs": [
        {
          "output_type": "error",
          "ename": "FileNotFoundError",
          "evalue": "[Errno 2] No such file or directory: '/content/dog-personality-1240x640.jpg'",
          "traceback": [
            "\u001b[0;31m---------------------------------------------------------------------------\u001b[0m",
            "\u001b[0;31mFileNotFoundError\u001b[0m                         Traceback (most recent call last)",
            "\u001b[0;32m<ipython-input-6-7ed7a9012f19>\u001b[0m in \u001b[0;36m<cell line: 1>\u001b[0;34m()\u001b[0m\n\u001b[0;32m----> 1\u001b[0;31m \u001b[0mimg\u001b[0m \u001b[0;34m=\u001b[0m \u001b[0mimage\u001b[0m\u001b[0;34m.\u001b[0m\u001b[0mload_img\u001b[0m\u001b[0;34m(\u001b[0m\u001b[0;34m'/content/dog-personality-1240x640.jpg'\u001b[0m\u001b[0;34m,\u001b[0m\u001b[0mtarget_size\u001b[0m\u001b[0;34m=\u001b[0m\u001b[0;34m(\u001b[0m\u001b[0;36m224\u001b[0m\u001b[0;34m,\u001b[0m\u001b[0;36m224\u001b[0m\u001b[0;34m)\u001b[0m\u001b[0;34m)\u001b[0m\u001b[0;34m\u001b[0m\u001b[0;34m\u001b[0m\u001b[0m\n\u001b[0m",
            "\u001b[0;32m/usr/local/lib/python3.10/dist-packages/keras/src/utils/image_utils.py\u001b[0m in \u001b[0;36mload_img\u001b[0;34m(path, grayscale, color_mode, target_size, interpolation, keep_aspect_ratio)\u001b[0m\n\u001b[1;32m    420\u001b[0m         \u001b[0;32mif\u001b[0m \u001b[0misinstance\u001b[0m\u001b[0;34m(\u001b[0m\u001b[0mpath\u001b[0m\u001b[0;34m,\u001b[0m \u001b[0mpathlib\u001b[0m\u001b[0;34m.\u001b[0m\u001b[0mPath\u001b[0m\u001b[0;34m)\u001b[0m\u001b[0;34m:\u001b[0m\u001b[0;34m\u001b[0m\u001b[0;34m\u001b[0m\u001b[0m\n\u001b[1;32m    421\u001b[0m             \u001b[0mpath\u001b[0m \u001b[0;34m=\u001b[0m \u001b[0mstr\u001b[0m\u001b[0;34m(\u001b[0m\u001b[0mpath\u001b[0m\u001b[0;34m.\u001b[0m\u001b[0mresolve\u001b[0m\u001b[0;34m(\u001b[0m\u001b[0;34m)\u001b[0m\u001b[0;34m)\u001b[0m\u001b[0;34m\u001b[0m\u001b[0;34m\u001b[0m\u001b[0m\n\u001b[0;32m--> 422\u001b[0;31m         \u001b[0;32mwith\u001b[0m \u001b[0mopen\u001b[0m\u001b[0;34m(\u001b[0m\u001b[0mpath\u001b[0m\u001b[0;34m,\u001b[0m \u001b[0;34m\"rb\"\u001b[0m\u001b[0;34m)\u001b[0m \u001b[0;32mas\u001b[0m \u001b[0mf\u001b[0m\u001b[0;34m:\u001b[0m\u001b[0;34m\u001b[0m\u001b[0;34m\u001b[0m\u001b[0m\n\u001b[0m\u001b[1;32m    423\u001b[0m             \u001b[0mimg\u001b[0m \u001b[0;34m=\u001b[0m \u001b[0mpil_image\u001b[0m\u001b[0;34m.\u001b[0m\u001b[0mopen\u001b[0m\u001b[0;34m(\u001b[0m\u001b[0mio\u001b[0m\u001b[0;34m.\u001b[0m\u001b[0mBytesIO\u001b[0m\u001b[0;34m(\u001b[0m\u001b[0mf\u001b[0m\u001b[0;34m.\u001b[0m\u001b[0mread\u001b[0m\u001b[0;34m(\u001b[0m\u001b[0;34m)\u001b[0m\u001b[0;34m)\u001b[0m\u001b[0;34m)\u001b[0m\u001b[0;34m\u001b[0m\u001b[0;34m\u001b[0m\u001b[0m\n\u001b[1;32m    424\u001b[0m     \u001b[0;32melse\u001b[0m\u001b[0;34m:\u001b[0m\u001b[0;34m\u001b[0m\u001b[0;34m\u001b[0m\u001b[0m\n",
            "\u001b[0;31mFileNotFoundError\u001b[0m: [Errno 2] No such file or directory: '/content/dog-personality-1240x640.jpg'"
          ]
        }
      ]
    },
    {
      "cell_type": "code",
      "source": [
        "img=image.img_to_array(img)"
      ],
      "metadata": {
        "colab": {
          "base_uri": "https://localhost:8080/"
        },
        "id": "3W1O1MJfIMl1",
        "outputId": "46040eb0-aedb-4c10-c8f8-28249374ecd2"
      },
      "execution_count": null,
      "outputs": [
        {
          "output_type": "execute_result",
          "data": {
            "text/plain": [
              "array([[[144., 109.,  45.],\n",
              "        [138., 106.,  45.],\n",
              "        [136., 108.,  45.],\n",
              "        ...,\n",
              "        [ 20.,  18.,   5.],\n",
              "        [  7.,   6.,   4.],\n",
              "        [  4.,   4.,   4.]],\n",
              "\n",
              "       [[142., 108.,  44.],\n",
              "        [136., 106.,  44.],\n",
              "        [133., 107.,  46.],\n",
              "        ...,\n",
              "        [ 12.,   9.,   0.],\n",
              "        [  4.,   2.,   3.],\n",
              "        [  4.,   4.,   4.]],\n",
              "\n",
              "       [[139., 108.,  44.],\n",
              "        [136., 108.,  45.],\n",
              "        [133., 109.,  47.],\n",
              "        ...,\n",
              "        [  8.,   7.,   3.],\n",
              "        [  4.,   4.,   6.],\n",
              "        [  4.,   4.,   4.]],\n",
              "\n",
              "       ...,\n",
              "\n",
              "       [[  6.,  17.,   3.],\n",
              "        [  8.,  16.,   3.],\n",
              "        [ 11.,  17.,   3.],\n",
              "        ...,\n",
              "        [ 26.,  31.,   9.],\n",
              "        [ 27.,  32.,  10.],\n",
              "        [ 25.,  28.,  11.]],\n",
              "\n",
              "       [[  6.,  17.,   3.],\n",
              "        [  6.,  17.,   3.],\n",
              "        [  8.,  16.,   3.],\n",
              "        ...,\n",
              "        [ 26.,  31.,   9.],\n",
              "        [ 27.,  32.,  10.],\n",
              "        [ 25.,  28.,  11.]],\n",
              "\n",
              "       [[  8.,  16.,   3.],\n",
              "        [  6.,  14.,   1.],\n",
              "        [  3.,  13.,   2.],\n",
              "        ...,\n",
              "        [ 23.,  31.,   8.],\n",
              "        [ 24.,  32.,   9.],\n",
              "        [ 25.,  28.,  11.]]], dtype=float32)"
            ]
          },
          "metadata": {},
          "execution_count": 14
        }
      ]
    },
    {
      "cell_type": "code",
      "source": [
        "img.shape"
      ],
      "metadata": {
        "colab": {
          "base_uri": "https://localhost:8080/"
        },
        "id": "iMjPxiQxIwLF",
        "outputId": "4fa006f2-53ee-451d-86c6-ac8e0c50437b"
      },
      "execution_count": null,
      "outputs": [
        {
          "output_type": "execute_result",
          "data": {
            "text/plain": [
              "(1, 224, 224, 3)"
            ]
          },
          "metadata": {},
          "execution_count": 17
        }
      ]
    },
    {
      "cell_type": "code",
      "source": [
        "img=np.expand_dims(img,axis=0)"
      ],
      "metadata": {
        "id": "e983zemGIzCU"
      },
      "execution_count": null,
      "outputs": []
    },
    {
      "cell_type": "code",
      "source": [
        "X=preprocess_input(img)"
      ],
      "metadata": {
        "colab": {
          "base_uri": "https://localhost:8080/"
        },
        "id": "ZYr-ZRWqI7dU",
        "outputId": "2324c6d8-1fb0-4463-a485-1e78258baddd"
      },
      "execution_count": null,
      "outputs": [
        {
          "output_type": "execute_result",
          "data": {
            "text/plain": [
              "array([[[[ -58.939003 ,   -7.7789993,   20.32     ],\n",
              "         [ -58.939003 ,  -10.778999 ,   14.32     ],\n",
              "         [ -58.939003 ,   -8.778999 ,   12.32     ],\n",
              "         ...,\n",
              "         [ -98.939    ,  -98.779    , -103.68     ],\n",
              "         [ -99.939    , -110.779    , -116.68     ],\n",
              "         [ -99.939    , -112.779    , -119.68     ]],\n",
              "\n",
              "        [[ -59.939003 ,   -8.778999 ,   18.32     ],\n",
              "         [ -59.939003 ,  -10.778999 ,   12.32     ],\n",
              "         [ -57.939003 ,   -9.778999 ,    9.32     ],\n",
              "         ...,\n",
              "         [-103.939    , -107.779    , -111.68     ],\n",
              "         [-100.939    , -114.779    , -119.68     ],\n",
              "         [ -99.939    , -112.779    , -119.68     ]],\n",
              "\n",
              "        [[ -59.939003 ,   -8.778999 ,   15.32     ],\n",
              "         [ -58.939003 ,   -8.778999 ,   12.32     ],\n",
              "         [ -56.939003 ,   -7.7789993,    9.32     ],\n",
              "         ...,\n",
              "         [-100.939    , -109.779    , -115.68     ],\n",
              "         [ -97.939    , -112.779    , -119.68     ],\n",
              "         [ -99.939    , -112.779    , -119.68     ]],\n",
              "\n",
              "        ...,\n",
              "\n",
              "        [[-100.939    ,  -99.779    , -117.68     ],\n",
              "         [-100.939    , -100.779    , -115.68     ],\n",
              "         [-100.939    ,  -99.779    , -112.68     ],\n",
              "         ...,\n",
              "         [ -94.939    ,  -85.779    ,  -97.68     ],\n",
              "         [ -93.939    ,  -84.779    ,  -96.68     ],\n",
              "         [ -92.939    ,  -88.779    ,  -98.68     ]],\n",
              "\n",
              "        [[-100.939    ,  -99.779    , -117.68     ],\n",
              "         [-100.939    ,  -99.779    , -117.68     ],\n",
              "         [-100.939    , -100.779    , -115.68     ],\n",
              "         ...,\n",
              "         [ -94.939    ,  -85.779    ,  -97.68     ],\n",
              "         [ -93.939    ,  -84.779    ,  -96.68     ],\n",
              "         [ -92.939    ,  -88.779    ,  -98.68     ]],\n",
              "\n",
              "        [[-100.939    , -100.779    , -115.68     ],\n",
              "         [-102.939    , -102.779    , -117.68     ],\n",
              "         [-101.939    , -103.779    , -120.68     ],\n",
              "         ...,\n",
              "         [ -95.939    ,  -85.779    , -100.68     ],\n",
              "         [ -94.939    ,  -84.779    ,  -99.68     ],\n",
              "         [ -92.939    ,  -88.779    ,  -98.68     ]]]], dtype=float32)"
            ]
          },
          "metadata": {},
          "execution_count": 19
        }
      ]
    },
    {
      "cell_type": "code",
      "source": [
        "prediction=model.predict(X)"
      ],
      "metadata": {
        "colab": {
          "base_uri": "https://localhost:8080/"
        },
        "id": "1K7c2Qo6JCsV",
        "outputId": "e21d669f-e509-4735-9173-b7af36e400e0"
      },
      "execution_count": null,
      "outputs": [
        {
          "output_type": "stream",
          "name": "stdout",
          "text": [
            "1/1 [==============================] - 4s 4s/step\n"
          ]
        }
      ]
    },
    {
      "cell_type": "code",
      "source": [
        "decode_predictions(prediction,top=2)"
      ],
      "metadata": {
        "colab": {
          "base_uri": "https://localhost:8080/"
        },
        "id": "CGRDrcRlJJZv",
        "outputId": "caf454f5-a965-4539-c8a0-e3ca384e9c05"
      },
      "execution_count": null,
      "outputs": [
        {
          "output_type": "stream",
          "name": "stdout",
          "text": [
            "Downloading data from https://storage.googleapis.com/download.tensorflow.org/data/imagenet_class_index.json\n",
            "35363/35363 [==============================] - 0s 0us/step\n"
          ]
        },
        {
          "output_type": "execute_result",
          "data": {
            "text/plain": [
              "[[('n02091635', 'otterhound', 0.5845907),\n",
              "  ('n02102318', 'cocker_spaniel', 0.29181808)]]"
            ]
          },
          "metadata": {},
          "execution_count": 24
        }
      ]
    },
    {
      "cell_type": "code",
      "source": [
        "capture=cv2.VideoCapture(0)\n",
        "while True:\n",
        "  ret,frame=capture.read()\n",
        "  frame=cv2.resize(frame,(224,224))\n",
        "  image=frame[...,::-1]\n",
        "  image=np.expand_dims(image,axis=0)\n",
        "  predictions=model.predict(image)\n",
        "  name=decode_predictions(prediction,top=1)[0][0][1]\n",
        "  cv2.putText(frame,name,(30,30),cv2.FONT_HERSHEY_SIMPLEX,1.0,(0,0,0))\n",
        "  cv2.imshow('webcam',frame)\n",
        "  if cv2.waitKey(1)==13:\n",
        "    break;\n",
        "capture.release()\n",
        "cv2.destroyAllWindows()"
      ],
      "metadata": {
        "colab": {
          "base_uri": "https://localhost:8080/",
          "height": 228
        },
        "id": "IhcwygjYLPN9",
        "outputId": "a5f93a7b-bac4-4872-af73-7f612fb584d5"
      },
      "execution_count": null,
      "outputs": [
        {
          "output_type": "error",
          "ename": "error",
          "evalue": "OpenCV(4.8.0) /io/opencv/modules/imgproc/src/resize.cpp:4062: error: (-215:Assertion failed) !ssize.empty() in function 'resize'\n",
          "traceback": [
            "\u001b[0;31m---------------------------------------------------------------------------\u001b[0m",
            "\u001b[0;31merror\u001b[0m                                     Traceback (most recent call last)",
            "\u001b[0;32m<ipython-input-4-bacc50c00051>\u001b[0m in \u001b[0;36m<cell line: 2>\u001b[0;34m()\u001b[0m\n\u001b[1;32m      2\u001b[0m \u001b[0;32mwhile\u001b[0m \u001b[0;32mTrue\u001b[0m\u001b[0;34m:\u001b[0m\u001b[0;34m\u001b[0m\u001b[0;34m\u001b[0m\u001b[0m\n\u001b[1;32m      3\u001b[0m   \u001b[0mret\u001b[0m\u001b[0;34m,\u001b[0m\u001b[0mframe\u001b[0m\u001b[0;34m=\u001b[0m\u001b[0mcapture\u001b[0m\u001b[0;34m.\u001b[0m\u001b[0mread\u001b[0m\u001b[0;34m(\u001b[0m\u001b[0;34m)\u001b[0m\u001b[0;34m\u001b[0m\u001b[0;34m\u001b[0m\u001b[0m\n\u001b[0;32m----> 4\u001b[0;31m   \u001b[0mframe\u001b[0m\u001b[0;34m=\u001b[0m\u001b[0mcv2\u001b[0m\u001b[0;34m.\u001b[0m\u001b[0mresize\u001b[0m\u001b[0;34m(\u001b[0m\u001b[0mframe\u001b[0m\u001b[0;34m,\u001b[0m\u001b[0;34m(\u001b[0m\u001b[0;36m224\u001b[0m\u001b[0;34m,\u001b[0m\u001b[0;36m224\u001b[0m\u001b[0;34m)\u001b[0m\u001b[0;34m)\u001b[0m\u001b[0;34m\u001b[0m\u001b[0;34m\u001b[0m\u001b[0m\n\u001b[0m\u001b[1;32m      5\u001b[0m   \u001b[0mimage\u001b[0m\u001b[0;34m=\u001b[0m\u001b[0mframe\u001b[0m\u001b[0;34m[\u001b[0m\u001b[0;34m...\u001b[0m\u001b[0;34m,\u001b[0m\u001b[0;34m:\u001b[0m\u001b[0;34m:\u001b[0m\u001b[0;34m-\u001b[0m\u001b[0;36m1\u001b[0m\u001b[0;34m]\u001b[0m\u001b[0;34m\u001b[0m\u001b[0;34m\u001b[0m\u001b[0m\n\u001b[1;32m      6\u001b[0m   \u001b[0mimage\u001b[0m\u001b[0;34m=\u001b[0m\u001b[0mnp\u001b[0m\u001b[0;34m.\u001b[0m\u001b[0mexpand_dims\u001b[0m\u001b[0;34m(\u001b[0m\u001b[0mimage\u001b[0m\u001b[0;34m,\u001b[0m\u001b[0maxis\u001b[0m\u001b[0;34m=\u001b[0m\u001b[0;36m0\u001b[0m\u001b[0;34m)\u001b[0m\u001b[0;34m\u001b[0m\u001b[0;34m\u001b[0m\u001b[0m\n",
            "\u001b[0;31merror\u001b[0m: OpenCV(4.8.0) /io/opencv/modules/imgproc/src/resize.cpp:4062: error: (-215:Assertion failed) !ssize.empty() in function 'resize'\n"
          ]
        }
      ]
    },
    {
      "cell_type": "code",
      "source": [
        "capture = cv2.VideoCapture(0)\n",
        "\n",
        "if not capture.isOpened():\n",
        "    print(\"Error: Could not open webcam.\")\n",
        "    exit()\n",
        "\n",
        "while True:\n",
        "    ret, frame = capture.read()\n",
        "\n",
        "    if not ret:\n",
        "        print(\"Error: Failed to capture frame.\")\n",
        "        break\n",
        "\n",
        "    frame = cv2.resize(frame, (224, 224))\n",
        "    image = frame[..., ::-1]\n",
        "    image = np.expand_dims(image, axis=0)\n",
        "    image = preprocess_input(image)\n",
        "    predictions = model.predict(image)\n",
        "    name = decode_predictions(predictions, top=1)[0][0][1]\n",
        "    cv2.putText(frame, name, (30, 30), cv2.FONT_HERSHEY_SIMPLEX, 1.0, (0, 0, 0))\n",
        "    cv2.imshow('webcam', frame)\n",
        "\n",
        "    if cv2.waitKey(1) == 13:\n",
        "        break\n",
        "\n",
        "capture.release()\n",
        "cv2.destroyAllWindows()\n"
      ],
      "metadata": {
        "id": "-HL0wj05LqVd",
        "colab": {
          "base_uri": "https://localhost:8080/"
        },
        "outputId": "18f3ec78-f011-4155-aab4-1ea04cadbbd5"
      },
      "execution_count": null,
      "outputs": [
        {
          "output_type": "stream",
          "name": "stdout",
          "text": [
            "Error: Could not open webcam.\n",
            "Error: Failed to capture frame.\n"
          ]
        }
      ]
    }
  ]
}